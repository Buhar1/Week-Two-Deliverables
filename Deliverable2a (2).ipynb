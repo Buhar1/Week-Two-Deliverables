{
 "cells": [
  {
   "cell_type": "markdown",
   "id": "f6ae2c13-fc27-4fb7-89f5-d381959596ac",
   "metadata": {},
   "source": [
    "TIC-TAC_TOE Project -Buhari Adamu"
   ]
  },
  {
   "cell_type": "code",
   "execution_count": 82,
   "id": "3afdf20d-c264-4744-bb61-09863e5585ea",
   "metadata": {},
   "outputs": [],
   "source": [
    "import random\n",
    "import pickle"
   ]
  },
  {
   "cell_type": "code",
   "execution_count": 83,
   "id": "4b14d9c0-1c67-407f-a9b4-1c458a8080cd",
   "metadata": {},
   "outputs": [],
   "source": [
    "class ttt:\n",
    "    def __init__(self):\n",
    "        self.board=[''for i in range(9)]\n",
    "        self.winner=None\n",
    "        \n",
    "    def disp(self):\n",
    "        for row in [self.board[i*3:(i+1)*3] for i in range(3)]:\n",
    "            print('|'+'|'.join(row)+'|')\n",
    "\n",
    "    def free_spaces(self):\n",
    "        return [i for i, spot in enumerate(self.board) if spot=='']\n",
    "\n",
    "    def move(self,square,letter):\n",
    "        if self.board[square]=='':\n",
    "            self.board[square]=letter\n",
    "            if self.check_win(square, letter):\n",
    "                self.winner=letter\n",
    "            return True\n",
    "        return False\n",
    "\n",
    "    def check_win(self, square, letter):\n",
    "        column=square%3\n",
    "        row=square//3\n",
    "        win_row=all([self.board[row*3+i]==letter for i in range(3)])\n",
    "        win_column=all([self.board[column+3*i]==letter for i in range(3)])\n",
    "        win_diagnol_a=all([self.board[i]==letter for i in [2,4,6]])\n",
    "        win_diagnol_b=all([self.board[i]==letter for i in [0,4,8]])\n",
    "        return win_row or win_column or win_diagnol_a or win_diagnol_b\n",
    "\n",
    "\n",
    "    def not_free(self):\n",
    "        return '' not in self.board\n",
    "\n",
    "    def new_game(self):\n",
    "        self.board=['' for i in range(9)]\n",
    "        self.winner=None\n",
    "            \n",
    "        \n",
    "    "
   ]
  },
  {
   "cell_type": "code",
   "execution_count": 84,
   "id": "1028f82c-db5b-4cf0-b881-d736d10d5657",
   "metadata": {},
   "outputs": [],
   "source": [
    "class AI_agent:\n",
    "\n",
    "    def __init__(self, alpha=0.2, gamma=0.8, epsilon=0.3):\n",
    "        self.q_table={}\n",
    "        self.gamma=gamma\n",
    "        self.alpha=alpha\n",
    "        self.epsilon=epsilon\n",
    "\n",
    "    def state(self, board):\n",
    "        return ''.join(board)\n",
    "\n",
    "    def action(self, board, available):\n",
    "        state=self.state(board)\n",
    "        if random.random()<self.epsilon:\n",
    "            return random.choice(available)\n",
    "        q_value=[self.q_table.get((state,a),0) for a in available]\n",
    "        maximum_q=max(q_value)\n",
    "        return random.choice([a for a, q in zip(available, q_value) if q==maximum_q])\n",
    "\n",
    "    def change(self, board, action, reward, nxt_board, done):\n",
    "        state=self.state(board)\n",
    "        nxt_state=self.state(nxt_board)\n",
    "        future_qvalue=[self.q_table.get((nxt_state,a),0) for a in range(9)]\n",
    "        mx_futureqv=max(future_qvalue) if not done else 0\n",
    "        current_qvalue=self.q_table.get((state,action),0)\n",
    "        self.q_table[(state, action)]=current_qvalue+self.alpha*(reward+self.gamma*mx_futureqv-current_qvalue)\n",
    "\n",
    "\n",
    "\n",
    "    def train(agent, repetitions=1000):\n",
    "        game=ttt()\n",
    "        for _ in range(repetitions):\n",
    "            game.new_game()\n",
    "            player='X'\n",
    "            while True:\n",
    "                state_before=game.board[:]\n",
    "                available_moves=game.free_spaces()\n",
    "                if not available_moves:\n",
    "                    agent.change(state_before, None, 0, game.board[:], True)\n",
    "                    break\n",
    "                    \n",
    "                move=agent.action(state_before, available_moves)\n",
    "                game.move(move, player)\n",
    "                after_state=game.board[:]\n",
    "\n",
    "                if game.winner==player:\n",
    "                    reward=1\n",
    "                    agent.change(state_before, move, reward, after_state, True)\n",
    "                    break\n",
    "                elif game.not_free():\n",
    "                    agent.change(state_before, move, 0, after_state, True)\n",
    "                    break\n",
    "                    \n",
    "                player='O' if player=='X' else 'X'\n",
    "\n",
    "    def playgame(agent):\n",
    "        game=ttt()\n",
    "        game.disp()\n",
    "        while True:\n",
    "            player_choice=input('Enter 1-9 to attempt a move:')\n",
    "            try:\n",
    "                player_choice_int=int(player_choice)-1\n",
    "                if player_choice_int not in range(9):\n",
    "                    print('Input Invaild. Try again')\n",
    "                    continue\n",
    "            except ValueError:\n",
    "                print('Invalid Input. Enter a digit.')\n",
    "                continue\n",
    "\n",
    "    \n",
    "            if not game.move(player_choice_int,'O'):\n",
    "                print('Move unavailable. Make another selection.')\n",
    "                continue\n",
    "        game.disp()\n",
    "        \n",
    "        if game.winner:\n",
    "            print('Congratulations! You won the game!')\n",
    "            return\n",
    "        if game.not_free():\n",
    "            print('Sorry! The game is a tie.')\n",
    "            return\n",
    "\n",
    "        agent_availablemoves= game.free_spaces()\n",
    "        if not agent_availablemoves:\n",
    "            print('Sorry! The game ended in a tie.')\n",
    "\n",
    "        ai_move=agent.action(game.board, game.free_spaces())\n",
    "        game.move(ai_move, 'X')\n",
    "        print('AI Agent played:')\n",
    "        game.disp()\n",
    "        \n",
    "        if game.winner:\n",
    "            print('Sorry! The AI Agent won the game!)')\n",
    "            return\n",
    "        if game.noy_free():\n",
    "            print('Sorry! The game ended in a tie.')\n",
    "            \n",
    "        \n",
    "                    \n",
    "    "
   ]
  },
  {
   "cell_type": "code",
   "execution_count": 85,
   "id": "c22990e4-c5a4-4514-8e36-3c371d933ed3",
   "metadata": {},
   "outputs": [
    {
     "name": "stdout",
     "output_type": "stream",
     "text": [
      "The AI agent is undergoing training...\n"
     ]
    }
   ],
   "source": [
    "ai_agent=AI_agent()\n",
    "print('The AI agent is undergoing training...')\n",
    "ai_agent.train(repetitions=1000)"
   ]
  },
  {
   "cell_type": "code",
   "execution_count": null,
   "id": "5212ddc2-4760-4158-aba0-6a80f569a109",
   "metadata": {},
   "outputs": [
    {
     "name": "stdout",
     "output_type": "stream",
     "text": [
      "Let's play TIC-TAC-TOE. You will play as O. The AI agent will play as X.\n",
      "||||\n",
      "||||\n",
      "||||\n"
     ]
    },
    {
     "name": "stdin",
     "output_type": "stream",
     "text": [
      "Enter 1-9 to attempt a move: 1\n",
      "Enter 1-9 to attempt a move: 2\n",
      "Enter 1-9 to attempt a move: 3\n",
      "Enter 1-9 to attempt a move: 4\n",
      "Enter 1-9 to attempt a move: 5\n",
      "Enter 1-9 to attempt a move: 6\n",
      "Enter 1-9 to attempt a move: 7\n",
      "Enter 1-9 to attempt a move: 8\n",
      "Enter 1-9 to attempt a move: 9\n",
      "Enter 1-9 to attempt a move: 1\n"
     ]
    },
    {
     "name": "stdout",
     "output_type": "stream",
     "text": [
      "Move unavailable. Make another selection.\n"
     ]
    }
   ],
   "source": [
    "print(\"Let's play TIC-TAC-TOE. You will play as O. The AI agent will play as X.\")\n",
    "ai_agent.playgame()"
   ]
  },
  {
   "cell_type": "code",
   "execution_count": null,
   "id": "bb60eb9e-2eb9-49b7-b3a2-85a3a21e8402",
   "metadata": {},
   "outputs": [],
   "source": []
  }
 ],
 "metadata": {
  "kernelspec": {
   "display_name": "Python 3 (ipykernel)",
   "language": "python",
   "name": "python3"
  },
  "language_info": {
   "codemirror_mode": {
    "name": "ipython",
    "version": 3
   },
   "file_extension": ".py",
   "mimetype": "text/x-python",
   "name": "python",
   "nbconvert_exporter": "python",
   "pygments_lexer": "ipython3",
   "version": "3.9.23"
  }
 },
 "nbformat": 4,
 "nbformat_minor": 5
}
