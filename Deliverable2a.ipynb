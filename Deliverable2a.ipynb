{
 "cells": [
  {
   "cell_type": "markdown",
   "id": "f6ae2c13-fc27-4fb7-89f5-d381959596ac",
   "metadata": {},
   "source": [
    "TIC-TAC_TOE Project -Buhari Adamu"
   ]
  },
  {
   "cell_type": "code",
   "execution_count": 35,
   "id": "72b2f07a-ddd3-41f6-abb7-185e9b3e5b81",
   "metadata": {},
   "outputs": [],
   "source": [
    "import random\n",
    "import pickle"
   ]
  },
  {
   "cell_type": "code",
   "execution_count": 40,
   "id": "4b14d9c0-1c67-407f-a9b4-1c458a8080cd",
   "metadata": {},
   "outputs": [],
   "source": [
    "class ttt:\n",
    "    def __init__(self):\n",
    "        self.board=[''for i in range(9)]\n",
    "        self.winner=None\n",
    "        \n",
    "    def disp(self):\n",
    "        for row in [self.board[i*3:(i+1)*3] for i in range(3)]:\n",
    "            print('|'+'|'.join(row)+'|')\n",
    "\n",
    "    def free_spaces(self):\n",
    "        return [i for i, spot in enumerate(self.board) if spot=='']\n",
    "\n",
    "    def move(self,square,letter):\n",
    "        if self.board[square]=='':\n",
    "            self.board[square]=letter\n",
    "            if self.check_win(square, letter):\n",
    "                self.winner=letter\n",
    "            return True\n",
    "        return False\n",
    "\n",
    "    def check_win(self, square, letter):\n",
    "        column=square%3\n",
    "        row=square//3\n",
    "        win_row=all([self.board[row*3+i]==letter for i in range(3)])\n",
    "        win_column=all([self.board[column+3*i]==letter for i in range(3)])\n",
    "        win_diagnol_a=all([self.board[i]==letter for i in [2,4,6]])\n",
    "        win_diagnol_b=all([self.board[i]==letter for i in [0,4,8]])\n",
    "        return win_row or win_column or win_diagnol_a or win_diagnol_b\n",
    "\n",
    "\n",
    "    def not_free(self):\n",
    "        return '' not in self.board\n",
    "\n",
    "    def new_game(self):\n",
    "        self.board=['' for i in range(9)]\n",
    "        self.winner=None\n",
    "            \n",
    "        \n",
    "    "
   ]
  },
  {
   "cell_type": "code",
   "execution_count": 49,
   "id": "1028f82c-db5b-4cf0-b881-d736d10d5657",
   "metadata": {},
   "outputs": [],
   "source": [
    "class AI_agent:\n",
    "\n",
    "    def __init__(self, alpha=0.2, gamma=0.8, epsilon=0.3):\n",
    "        self.q_table={}\n",
    "        self.gamma=gamma\n",
    "        self.alpha=alpha\n",
    "        self.epsilon=epsilon\n",
    "\n",
    "    def state(self, board):\n",
    "        return ''.join(board)\n",
    "\n",
    "    def action(self, board, available):\n",
    "        state=self.state(board)\n",
    "        if random.random()<self.epsilon:\n",
    "            return random.choice(available)\n",
    "        q_value=[self.q_table.get((state,a),0) for a in available]\n",
    "        maximum_q=max(q_value)\n",
    "        return random.choice([a for a, q in zip(available, q_value) if q==maximum_q])\n",
    "\n",
    "    def change(self, board, action, reward, nxt_board, done):\n",
    "        state=self.state(board)\n",
    "        nxt_state=self.state(nxt_board)\n",
    "        future_qvalue=[self.q_table.get((nxt_state,a),0) for y in range(9)]\n",
    "        mx_futureqv=max(future_qvalue) if not done else 0\n",
    "        current_qvalue=self.q_table.get((state,action),0)\n",
    "        self.q_table[(state, action)]=current_qvalue+self.alpha*(reward+self.gamma+mx_futureqv-current_qvalue)\n",
    "\n",
    "\n",
    "\n",
    "    def train(agent, repetitions=1000):\n",
    "        game=ttt()\n",
    "        for _ in range(repetitions):\n",
    "            game.new_game()\n",
    "            player='X'\n",
    "            while True:\n",
    "                state_before=game.board[:]\n",
    "                available_moves=game.free_spaces()\n",
    "                if not available_moves:\n",
    "                    agent.change(state_before, None, 0, game.board[:], True)\n",
    "                    break\n",
    "                    \n",
    "                move=agent.action(state_before, available_moves)\n",
    "                game.move(move, player)\n",
    "                after_state=game.board[:]\n",
    "\n",
    "                if game.winner==player:\n",
    "                    reward=1\n",
    "                    agent.change(state_before, move, reward, after_state, True)\n",
    "                    break\n",
    "                elif game.not_free():\n",
    "                    agent.change(state_before, move, 0, after_state, True)\n",
    "                    break\n",
    "                    \n",
    "                player='O' if player=='X' else 'X'\n",
    "\n",
    "    def playgame(agent):\n",
    "        game=ttt()\n",
    "        game.disp()\n",
    "        while not game.not_free():\n",
    "            player_choice=int(input('Enter 1-9 to attempt a move:'))-1\n",
    "            if not game.move(player_choice,'O'):\n",
    "                print('Move unavailable. Make another selection.')\n",
    "                continue\n",
    "        game.disp()\n",
    "        \n",
    "        if game.winner:\n",
    "            print('Congratulations! You won the game!')\n",
    "            return\n",
    "        if game.not_free():\n",
    "            print('Sorry! The game is a tie.')\n",
    "            return\n",
    "\n",
    "        move=agent.action(game.board, game.free_spaces())\n",
    "        game.move(move, 'X')\n",
    "        print('AI Agent played:')\n",
    "        game.disp()\n",
    "        if game.winner:\n",
    "            print('Sorry! The AI Agent won the game!)')\n",
    "            return\n",
    "            \n",
    "        \n",
    "                    \n",
    "    "
   ]
  },
  {
   "cell_type": "code",
   "execution_count": 50,
   "id": "c22990e4-c5a4-4514-8e36-3c371d933ed3",
   "metadata": {},
   "outputs": [
    {
     "name": "stdout",
     "output_type": "stream",
     "text": [
      "The AI agent is undergoing training...\n"
     ]
    },
    {
     "ename": "NameError",
     "evalue": "name 'a' is not defined",
     "output_type": "error",
     "traceback": [
      "\u001b[1;31m---------------------------------------------------------------------------\u001b[0m",
      "\u001b[1;31mNameError\u001b[0m                                 Traceback (most recent call last)",
      "Cell \u001b[1;32mIn[50], line 3\u001b[0m\n\u001b[0;32m      1\u001b[0m ai_agent\u001b[38;5;241m=\u001b[39mAI_agent()\n\u001b[0;32m      2\u001b[0m \u001b[38;5;28mprint\u001b[39m(\u001b[38;5;124m'\u001b[39m\u001b[38;5;124mThe AI agent is undergoing training...\u001b[39m\u001b[38;5;124m'\u001b[39m)\n\u001b[1;32m----> 3\u001b[0m \u001b[43mai_agent\u001b[49m\u001b[38;5;241;43m.\u001b[39;49m\u001b[43mtrain\u001b[49m\u001b[43m(\u001b[49m\u001b[43mrepetitions\u001b[49m\u001b[38;5;241;43m=\u001b[39;49m\u001b[38;5;241;43m1000\u001b[39;49m\u001b[43m)\u001b[49m\n",
      "Cell \u001b[1;32mIn[49], line 48\u001b[0m, in \u001b[0;36mAI_agent.train\u001b[1;34m(agent, repetitions)\u001b[0m\n\u001b[0;32m     46\u001b[0m \u001b[38;5;28;01mif\u001b[39;00m game\u001b[38;5;241m.\u001b[39mwinner\u001b[38;5;241m==\u001b[39mplayer:\n\u001b[0;32m     47\u001b[0m     reward\u001b[38;5;241m=\u001b[39m\u001b[38;5;241m1\u001b[39m\n\u001b[1;32m---> 48\u001b[0m     \u001b[43magent\u001b[49m\u001b[38;5;241;43m.\u001b[39;49m\u001b[43mchange\u001b[49m\u001b[43m(\u001b[49m\u001b[43mstate_before\u001b[49m\u001b[43m,\u001b[49m\u001b[43m \u001b[49m\u001b[43mmove\u001b[49m\u001b[43m,\u001b[49m\u001b[43m \u001b[49m\u001b[43mreward\u001b[49m\u001b[43m,\u001b[49m\u001b[43m \u001b[49m\u001b[43mafter_state\u001b[49m\u001b[43m,\u001b[49m\u001b[43m \u001b[49m\u001b[38;5;28;43;01mTrue\u001b[39;49;00m\u001b[43m)\u001b[49m\n\u001b[0;32m     49\u001b[0m     \u001b[38;5;28;01mbreak\u001b[39;00m\n\u001b[0;32m     50\u001b[0m \u001b[38;5;28;01melif\u001b[39;00m game\u001b[38;5;241m.\u001b[39mnot_free():\n",
      "Cell \u001b[1;32mIn[49], line 23\u001b[0m, in \u001b[0;36mAI_agent.change\u001b[1;34m(self, board, action, reward, nxt_board, done)\u001b[0m\n\u001b[0;32m     21\u001b[0m state\u001b[38;5;241m=\u001b[39m\u001b[38;5;28mself\u001b[39m\u001b[38;5;241m.\u001b[39mstate(board)\n\u001b[0;32m     22\u001b[0m nxt_state\u001b[38;5;241m=\u001b[39m\u001b[38;5;28mself\u001b[39m\u001b[38;5;241m.\u001b[39mstate(nxt_board)\n\u001b[1;32m---> 23\u001b[0m future_qvalue\u001b[38;5;241m=\u001b[39m[\u001b[38;5;28mself\u001b[39m\u001b[38;5;241m.\u001b[39mq_table\u001b[38;5;241m.\u001b[39mget((nxt_state,a),\u001b[38;5;241m0\u001b[39m) \u001b[38;5;28;01mfor\u001b[39;00m y \u001b[38;5;129;01min\u001b[39;00m \u001b[38;5;28mrange\u001b[39m(\u001b[38;5;241m9\u001b[39m)]\n\u001b[0;32m     24\u001b[0m mx_futureqv\u001b[38;5;241m=\u001b[39m\u001b[38;5;28mmax\u001b[39m(future_qvalue) \u001b[38;5;28;01mif\u001b[39;00m \u001b[38;5;129;01mnot\u001b[39;00m done \u001b[38;5;28;01melse\u001b[39;00m \u001b[38;5;241m0\u001b[39m\n\u001b[0;32m     25\u001b[0m current_qvalue\u001b[38;5;241m=\u001b[39m\u001b[38;5;28mself\u001b[39m\u001b[38;5;241m.\u001b[39mq_table\u001b[38;5;241m.\u001b[39mget((state,action),\u001b[38;5;241m0\u001b[39m)\n",
      "Cell \u001b[1;32mIn[49], line 23\u001b[0m, in \u001b[0;36m<listcomp>\u001b[1;34m(.0)\u001b[0m\n\u001b[0;32m     21\u001b[0m state\u001b[38;5;241m=\u001b[39m\u001b[38;5;28mself\u001b[39m\u001b[38;5;241m.\u001b[39mstate(board)\n\u001b[0;32m     22\u001b[0m nxt_state\u001b[38;5;241m=\u001b[39m\u001b[38;5;28mself\u001b[39m\u001b[38;5;241m.\u001b[39mstate(nxt_board)\n\u001b[1;32m---> 23\u001b[0m future_qvalue\u001b[38;5;241m=\u001b[39m[\u001b[38;5;28mself\u001b[39m\u001b[38;5;241m.\u001b[39mq_table\u001b[38;5;241m.\u001b[39mget((nxt_state,\u001b[43ma\u001b[49m),\u001b[38;5;241m0\u001b[39m) \u001b[38;5;28;01mfor\u001b[39;00m y \u001b[38;5;129;01min\u001b[39;00m \u001b[38;5;28mrange\u001b[39m(\u001b[38;5;241m9\u001b[39m)]\n\u001b[0;32m     24\u001b[0m mx_futureqv\u001b[38;5;241m=\u001b[39m\u001b[38;5;28mmax\u001b[39m(future_qvalue) \u001b[38;5;28;01mif\u001b[39;00m \u001b[38;5;129;01mnot\u001b[39;00m done \u001b[38;5;28;01melse\u001b[39;00m \u001b[38;5;241m0\u001b[39m\n\u001b[0;32m     25\u001b[0m current_qvalue\u001b[38;5;241m=\u001b[39m\u001b[38;5;28mself\u001b[39m\u001b[38;5;241m.\u001b[39mq_table\u001b[38;5;241m.\u001b[39mget((state,action),\u001b[38;5;241m0\u001b[39m)\n",
      "\u001b[1;31mNameError\u001b[0m: name 'a' is not defined"
     ]
    }
   ],
   "source": [
    "ai_agent=AI_agent()\n",
    "print('The AI agent is undergoing training...')\n",
    "ai_agent.train(repetitions=1000)"
   ]
  },
  {
   "cell_type": "raw",
   "id": "5004560d-6cbd-4399-9ab1-dee9747dc293",
   "metadata": {},
   "source": [
    "print('Let'/s play TIC-TAC-TOE. You will play as O. The AI agent will play as X.')\n",
    "play(ai_agent)"
   ]
  }
 ],
 "metadata": {
  "kernelspec": {
   "display_name": "Python 3 (ipykernel)",
   "language": "python",
   "name": "python3"
  },
  "language_info": {
   "codemirror_mode": {
    "name": "ipython",
    "version": 3
   },
   "file_extension": ".py",
   "mimetype": "text/x-python",
   "name": "python",
   "nbconvert_exporter": "python",
   "pygments_lexer": "ipython3",
   "version": "3.9.23"
  }
 },
 "nbformat": 4,
 "nbformat_minor": 5
}
